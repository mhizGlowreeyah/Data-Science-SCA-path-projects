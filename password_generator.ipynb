{
 "cells": [
  {
   "cell_type": "code",
   "execution_count": 10,
   "metadata": {},
   "outputs": [
    {
     "name": "stdout",
     "output_type": "stream",
     "text": [
      "How long do you want your password to be?\n",
      " 10\n",
      "How many letters do you want in your password:\n",
      " 5\n",
      "How many numbers do you want in your password:\n",
      " 3\n",
      "your password is:  Lrhhv370%\\\n"
     ]
    }
   ],
   "source": [
    "import random\n",
    "import string\n",
    "\n",
    "password_len = int(input(\"How long do you want your password to be?\\n \"))\n",
    "password_letter = int(input(\"How many letters do you want in your password:\\n \"))\n",
    "password_number = int(input(\"How many numbers do you want in your password:\\n \"))\n",
    "punctuation = (password_len - (password_letter + password_number))\n",
    "   \n",
    "def password_generator():\n",
    "    for i in range(password_len):\n",
    "        password = random.choice(string.ascii_uppercase)\n",
    "        for i in range(password_letter-1):\n",
    "            password = password + random.choice(string.ascii_lowercase)\n",
    "        for i in range(password_number):\n",
    "            password += random.choice(string.digits)\n",
    "        for i in range(punctuation):\n",
    "            password += random.choice(string.punctuation)\n",
    "                      \n",
    "    return password\n",
    "print(\"your password is: \",password_generator())"
   ]
  },
  {
   "cell_type": "code",
   "execution_count": null,
   "metadata": {
    "collapsed": true
   },
   "outputs": [],
   "source": []
  }
 ],
 "metadata": {
  "kernelspec": {
   "display_name": "Python 3",
   "language": "python",
   "name": "python3"
  },
  "language_info": {
   "codemirror_mode": {
    "name": "ipython",
    "version": 3
   },
   "file_extension": ".py",
   "mimetype": "text/x-python",
   "name": "python",
   "nbconvert_exporter": "python",
   "pygments_lexer": "ipython3",
   "version": "3.6.1"
  }
 },
 "nbformat": 4,
 "nbformat_minor": 2
}
