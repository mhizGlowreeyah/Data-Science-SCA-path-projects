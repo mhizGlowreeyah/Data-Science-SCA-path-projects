{
 "cells": [
  {
   "cell_type": "code",
   "execution_count": 3,
   "metadata": {
    "collapsed": true
   },
   "outputs": [],
   "source": [
    "import random\n",
    "def guess_the_number():\n",
    "    n = random.randint(1,21)\n",
    "    guessed_number = int(input(\"Enter a number between 1 and 20:\\n\"))\n",
    "    if guessed_number > n:\n",
    "        diff = guessed_number - n\n",
    "        print(f\"The number you guessed is higher by {diff}\")\n",
    "    elif guessed_number < n:\n",
    "        diff = n - guessed_number\n",
    "        print(f\"The number you guessed is lower than the number by {diff}\")\n",
    "    else:\n",
    "        print(\"Very Correct! you guessed right\")\n",
    "    print(f\"The correct number is {n}\")"
   ]
  },
  {
   "cell_type": "code",
   "execution_count": 4,
   "metadata": {},
   "outputs": [
    {
     "name": "stdout",
     "output_type": "stream",
     "text": [
      "Enter a number between 1 and 20:\n",
      "15\n",
      "The number you guessed is higher by 5\n",
      "The correct number is 10\n"
     ]
    }
   ],
   "source": [
    "guess_the_number()"
   ]
  },
  {
   "cell_type": "code",
   "execution_count": null,
   "metadata": {
    "collapsed": true
   },
   "outputs": [],
   "source": []
  }
 ],
 "metadata": {
  "kernelspec": {
   "display_name": "Python 3",
   "language": "python",
   "name": "python3"
  },
  "language_info": {
   "codemirror_mode": {
    "name": "ipython",
    "version": 3
   },
   "file_extension": ".py",
   "mimetype": "text/x-python",
   "name": "python",
   "nbconvert_exporter": "python",
   "pygments_lexer": "ipython3",
   "version": "3.6.1"
  }
 },
 "nbformat": 4,
 "nbformat_minor": 2
}
