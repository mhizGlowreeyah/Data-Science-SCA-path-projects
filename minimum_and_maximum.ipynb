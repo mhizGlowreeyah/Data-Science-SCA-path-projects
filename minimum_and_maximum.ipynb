{
 "cells": [
  {
   "cell_type": "code",
   "execution_count": 1,
   "metadata": {
    "collapsed": true
   },
   "outputs": [],
   "source": [
    "def min_max():\n",
    "    list1 = []\n",
    "    num = int(input(\"Enter the total number of data in the list: \"))\n",
    "    count = 1\n",
    "    while count <= num:\n",
    "        element = int(input(\"Enter the number: \"))\n",
    "        list1.append(element)\n",
    "        count+=1\n",
    "    max_num = max(list1)\n",
    "    min_num = min(list1)\n",
    "    \n",
    "    print(\"The largest number is {}\".format(max_num))\n",
    "    print(\"The smallest number is {}\".format(min_num))\n",
    "    print(list1)"
   ]
  },
  {
   "cell_type": "code",
   "execution_count": 2,
   "metadata": {},
   "outputs": [
    {
     "name": "stdout",
     "output_type": "stream",
     "text": [
      "Enter the total number of data in the list: 20\n",
      "Enter the number: 3\n",
      "Enter the number: 92\n",
      "Enter the number: 3\n",
      "Enter the number: 49\n",
      "Enter the number: 01\n",
      "Enter the number: 47\n",
      "Enter the number: 98\n",
      "Enter the number: 0\n",
      "Enter the number: 3\n",
      "Enter the number: 7\n",
      "Enter the number: 90\n",
      "Enter the number: 7\n",
      "Enter the number: 4\n",
      "Enter the number: 6\n",
      "Enter the number: 8\n",
      "Enter the number: 10\n",
      "Enter the number: 40\n",
      "Enter the number: 54\n",
      "Enter the number: 78\n",
      "Enter the number: 09\n",
      "The largest number is 98\n",
      "The smallest number is 0\n",
      "[3, 92, 3, 49, 1, 47, 98, 0, 3, 7, 90, 7, 4, 6, 8, 10, 40, 54, 78, 9]\n"
     ]
    }
   ],
   "source": [
    "min_max()"
   ]
  },
  {
   "cell_type": "code",
   "execution_count": null,
   "metadata": {
    "collapsed": true
   },
   "outputs": [],
   "source": []
  }
 ],
 "metadata": {
  "kernelspec": {
   "display_name": "Python 3",
   "language": "python",
   "name": "python3"
  },
  "language_info": {
   "codemirror_mode": {
    "name": "ipython",
    "version": 3
   },
   "file_extension": ".py",
   "mimetype": "text/x-python",
   "name": "python",
   "nbconvert_exporter": "python",
   "pygments_lexer": "ipython3",
   "version": "3.6.1"
  }
 },
 "nbformat": 4,
 "nbformat_minor": 2
}
